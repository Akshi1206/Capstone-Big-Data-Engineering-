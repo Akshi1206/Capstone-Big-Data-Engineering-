{
 "cells": [
  {
   "cell_type": "code",
   "execution_count": 51,
   "metadata": {},
   "outputs": [],
   "source": [
    "from pyspark.sql import SparkSession\n",
    "import pandas as pd\n",
    "from pyspark.sql import functions as F\n",
    "import numpy as np\n",
    "import pandas as pd\n",
    "import matplotlib.pyplot as plt\n",
    "import seaborn as sns\n",
    "\n",
    "spark = (SparkSession.builder.appName(\"Akshi_capstone1\")\\\n",
    "        .config(\"hive.metastore.uris\",\"thrift://ip-10-1-2-24.ap-south-1.compute.internal:9083\")\\\n",
    "        .enableHiveSupport().getOrCreate())"
   ]
  },
  {
   "cell_type": "code",
   "execution_count": 52,
   "metadata": {},
   "outputs": [
    {
     "data": {
      "text/html": [
       "\n",
       "            <div>\n",
       "                <p><b>SparkSession - hive</b></p>\n",
       "                \n",
       "        <div>\n",
       "            <p><b>SparkContext</b></p>\n",
       "\n",
       "            <p><a href=\"http://ip-10-1-1-204.ap-south-1.compute.internal:43017\">Spark UI</a></p>\n",
       "\n",
       "            <dl>\n",
       "              <dt>Version</dt>\n",
       "                <dd><code>v2.4.0</code></dd>\n",
       "              <dt>Master</dt>\n",
       "                <dd><code>local[*]</code></dd>\n",
       "              <dt>AppName</dt>\n",
       "                <dd><code>Akshi_capstone1</code></dd>\n",
       "            </dl>\n",
       "        </div>\n",
       "        \n",
       "            </div>\n",
       "        "
      ],
      "text/plain": [
       "<pyspark.sql.session.SparkSession at 0x7fb2ff5f5710>"
      ]
     },
     "execution_count": 52,
     "metadata": {},
     "output_type": "execute_result"
    }
   ],
   "source": [
    "spark"
   ]
  },
  {
   "cell_type": "code",
   "execution_count": 53,
   "metadata": {},
   "outputs": [
    {
     "name": "stdout",
     "output_type": "stream",
     "text": [
      "++\n",
      "||\n",
      "++\n",
      "++\n",
      "\n",
      "+----------+-----------------+-----------+\n",
      "|  database|        tableName|isTemporary|\n",
      "+----------+-----------------+-----------+\n",
      "|akshialabs|              clv|      false|\n",
      "|akshialabs|          default|      false|\n",
      "|akshialabs|      departments|      false|\n",
      "|akshialabs|         dept_emp|      false|\n",
      "|akshialabs|     dept_manager|      false|\n",
      "|akshialabs|         duration|      false|\n",
      "|akshialabs|        employees|      false|\n",
      "|akshialabs|            grace|      false|\n",
      "|akshialabs|             hvac|      false|\n",
      "|akshialabs|    hvac_building|      false|\n",
      "|akshialabs|       hvac_final|      false|\n",
      "|akshialabs|hvac_temperatures|      false|\n",
      "|akshialabs|         kweblist|      false|\n",
      "|akshialabs|            late1|      false|\n",
      "|akshialabs|            late2|      false|\n",
      "|akshialabs|           latlon|      false|\n",
      "|akshialabs|  left_emp_tenure|      false|\n",
      "|akshialabs|         loandata|      false|\n",
      "|akshialabs|   migrate_status|      false|\n",
      "|akshialabs|               nt|      false|\n",
      "+----------+-----------------+-----------+\n",
      "only showing top 20 rows\n",
      "\n"
     ]
    }
   ],
   "source": [
    "spark.sql(\"use akshialabs\").show()\n",
    "spark.sql(\"show tables\").show()"
   ]
  },
  {
   "cell_type": "markdown",
   "metadata": {},
   "source": [
    "## Exploratory Data Analysis"
   ]
  },
  {
   "cell_type": "markdown",
   "metadata": {},
   "source": [
    "### 1. A list showing employee number, last name, first name, sex, and salary for each employee"
   ]
  },
  {
   "cell_type": "code",
   "execution_count": 54,
   "metadata": {},
   "outputs": [
    {
     "name": "stdout",
     "output_type": "stream",
     "text": [
      "+------+----------+----------+---+------+\n",
      "|emp_no| last_name|first_name|sex|salary|\n",
      "+------+----------+----------+---+------+\n",
      "|473302|  Zallocco|  Hideyuki|  M| 40000|\n",
      "|475053| Delgrande|     Byong|  F| 53422|\n",
      "| 57444|      Babb|     Berry|  F| 48973|\n",
      "|421786|  Verhoeff|     Xiong|  M| 40000|\n",
      "|282238|   Baumann|Abdelkader|  F| 40000|\n",
      "|263976|  Cusworth|      Eran|  M| 40000|\n",
      "|273487|   Parfitt| Christoph|  M| 56087|\n",
      "|461591|  Samarati|    Xudong|  M| 40000|\n",
      "|477657| Magliocco|    Lihong|  M| 54816|\n",
      "|219881|     Speek| Kwangyoen|  F| 40000|\n",
      "| 29920|     Tyugu|   Shuichi|  F| 40000|\n",
      "|208153|      Lunn|   Abdulah|  M| 50183|\n",
      "| 13616|     Lorho|     Perry|  F| 40000|\n",
      "|246449|Bultermann|     Subbu|  F| 87084|\n",
      "| 21529|  Zallocco|     Bojan|  M| 40000|\n",
      "| 17934|  Wuwongse|  Bilhanan|  M| 48795|\n",
      "| 48085|      Gilg|Venkatesan|  M| 63016|\n",
      "|239838|     Dulli|   Naftali|  M| 57715|\n",
      "|240129|    Karnin|     Roddy|  M| 43548|\n",
      "|205246|    Demizu|     Nevio|  F| 80252|\n",
      "+------+----------+----------+---+------+\n",
      "only showing top 20 rows\n",
      "\n"
     ]
    }
   ],
   "source": [
    "spark.sql(\"select e.emp_no, e.last_name, e.first_name, e.sex, s.salary\\\n",
    "    from akshialabs.employees e inner join akshialabs.salaries s\\\n",
    "    on e.emp_no = s.emp_no\").show()"
   ]
  },
  {
   "cell_type": "markdown",
   "metadata": {},
   "source": [
    "### 2. A list showing first name, last name, and hire date for employees who were hired in 1986."
   ]
  },
  {
   "cell_type": "code",
   "execution_count": 55,
   "metadata": {},
   "outputs": [
    {
     "name": "stdout",
     "output_type": "stream",
     "text": [
      "+----------+-----------+---------+\n",
      "|first_name|  last_name|hire_date|\n",
      "+----------+-----------+---------+\n",
      "|     Nevio|     Demizu|5/18/1986|\n",
      "|     Mohit|      Speek|1/14/1986|\n",
      "|  Qunsheng|      Speer|2/13/1986|\n",
      "|  Harngdar|      Swick|5/28/1986|\n",
      "|     Bowen|   Schmezko|5/30/1986|\n",
      "|    Reuven|      Munke|4/13/1986|\n",
      "| Juichirou|   Jumpertz|9/18/1986|\n",
      "|   Xiadong|       Bach|4/29/1986|\n",
      "| Guangming|Butterworth|10/1/1986|\n",
      "|     Irene|      Setia|8/10/1986|\n",
      "|   Terresa|      Perez|9/12/1986|\n",
      "|    Lidong|    Borovoy|5/30/1986|\n",
      "| Stabislas|   McFarlin|7/19/1986|\n",
      "|      Khun|     Kuszyk|6/30/1986|\n",
      "|     Conor|   Flanders|2/21/1986|\n",
      "|    Shigeu|      Denna|4/10/1986|\n",
      "|       Uta|    Frolund|1/22/1986|\n",
      "|      Sven|     Krider|9/25/1986|\n",
      "|    Yannik|     Vakili|11/9/1986|\n",
      "|   Khatoun| Zeilberger|1/31/1986|\n",
      "+----------+-----------+---------+\n",
      "only showing top 20 rows\n",
      "\n"
     ]
    }
   ],
   "source": [
    "spark.sql(\"select first_name,last_name,hire_date from employees where  substr(hire_date,6,10) = '1986'\").show()"
   ]
  },
  {
   "cell_type": "markdown",
   "metadata": {},
   "source": [
    "### 3. A list showing the manager of each department with the following information: department number, department name,the manager's employee number, last name, first name."
   ]
  },
  {
   "cell_type": "code",
   "execution_count": 56,
   "metadata": {},
   "outputs": [
    {
     "name": "stdout",
     "output_type": "stream",
     "text": [
      "+-------+------+------------+-----------+\n",
      "|dept_no|emp_no|   last_name| first_name|\n",
      "+-------+------+------------+-----------+\n",
      "|   d009|111877|    Spinelli|    Xiaobin|\n",
      "|   d008|111534|      Kambil|     Hilary|\n",
      "|   d006|110765|     Hofmeyr|     Rutger|\n",
      "|   d004|110420|    Ghazalie|      Oscar|\n",
      "|   d006|110725|     Onuegbe|  Peternela|\n",
      "|   d001|110022|  Markovitch|  Margareta|\n",
      "|   d007|111035|   Kaelbling|Przemyslawa|\n",
      "|   d005|110511|    Hagimont|   DeForest|\n",
      "|   d005|110567|    DasSarma|       Leon|\n",
      "|   d003|110183|Ossenbruggen|    Shirish|\n",
      "|   d009|111939|     Weedman|    Yuchang|\n",
      "|   d002|110114|  Legleitner|      Isamu|\n",
      "|   d006|110854|       Pesch|       Dung|\n",
      "|   d001|110039|    Minakawa|   Vishwani|\n",
      "|   d006|110800|     Quadeer|     Sanjoy|\n",
      "|   d003|110228|     Sigstam|    Karsten|\n",
      "|   d004|110303|     Wegerle|  Krassimir|\n",
      "|   d004|110344|       Cools|     Rosine|\n",
      "|   d009|111692| Butterworth|      Tonny|\n",
      "|   d008|111400|     Staelin|       Arie|\n",
      "+-------+------+------------+-----------+\n",
      "only showing top 20 rows\n",
      "\n"
     ]
    }
   ],
   "source": [
    "spark.sql(\"select t1.dept_no,t2.emp_no,t3.last_name,t3.first_name from departments t1 inner join dept_manager t2 on t1.dept_no = t2.dept_no inner join employees t3 on t2.emp_no = t3.emp_no\").show()"
   ]
  },
  {
   "cell_type": "markdown",
   "metadata": {},
   "source": [
    "### 4. A list showing the department of each employee with the following information: employee number, last name, first name, and department name."
   ]
  },
  {
   "cell_type": "code",
   "execution_count": 57,
   "metadata": {},
   "outputs": [
    {
     "name": "stdout",
     "output_type": "stream",
     "text": [
      "+------+-----------+----------+--------------------+\n",
      "|emp_no|  last_name|first_name|           dept_name|\n",
      "+------+-----------+----------+--------------------+\n",
      "| 10001|    Facello|    Georgi|       \"development\"|\n",
      "| 10002|     Simmel|   Bezalel|             \"Sales\"|\n",
      "| 10003|    Bamford|     Parto|        \"Production\"|\n",
      "| 10004|    Koblick| Chirstian|        \"Production\"|\n",
      "| 10005|   Maliniak|   Kyoichi|   \"Human Resources\"|\n",
      "| 10006|    Preusig|    Anneke|       \"development\"|\n",
      "| 10007|  Zielinski|   Tzvetan|          \"Research\"|\n",
      "| 10008|   Kalloufi|    Saniya|       \"development\"|\n",
      "| 10009|       Peac|    Sumant|\"Quality Management\"|\n",
      "| 10010|   Piveteau| Duangkaew|        \"Production\"|\n",
      "| 10010|   Piveteau| Duangkaew|\"Quality Management\"|\n",
      "| 10011|      Sluis|      Mary|  \"Customer Service\"|\n",
      "| 10012|  Bridgland|  Patricio|       \"development\"|\n",
      "| 10013|     Terkki| Eberhardt|   \"Human Resources\"|\n",
      "| 10014|      Genin|     Berni|       \"development\"|\n",
      "| 10015|  Nooteboom|  Guoxiang|          \"Research\"|\n",
      "| 10016|Cappelletti|  Kazuhito|             \"Sales\"|\n",
      "| 10017|  Bouloucos| Cristinel|         \"Marketing\"|\n",
      "| 10018|       Peha|  Kazuhide|        \"Production\"|\n",
      "| 10018|       Peha|  Kazuhide|       \"development\"|\n",
      "+------+-----------+----------+--------------------+\n",
      "only showing top 20 rows\n",
      "\n"
     ]
    }
   ],
   "source": [
    "spark.sql(\" select t2.emp_no, t3.last_name,t3.first_name,t1.dept_name from departments t1 inner join dept_emp t2 on t1.dept_no = t2.dept_no inner join employees t3 on t2.emp_no = t3.emp_no\").show()"
   ]
  },
  {
   "cell_type": "markdown",
   "metadata": {},
   "source": [
    "### 5. A list showing first name, last name, and sex for employees whose first name is \"Hercules\" and last names begin with \"B.“"
   ]
  },
  {
   "cell_type": "code",
   "execution_count": 58,
   "metadata": {
    "scrolled": true
   },
   "outputs": [
    {
     "name": "stdout",
     "output_type": "stream",
     "text": [
      "+----------+-------------+---+\n",
      "|first_name|    last_name|sex|\n",
      "+----------+-------------+---+\n",
      "|  Hercules|         Baer|  M|\n",
      "|  Hercules|        Biron|  F|\n",
      "|  Hercules|        Birge|  F|\n",
      "|  Hercules|      Berstel|  F|\n",
      "|  Hercules|    Bernatsky|  M|\n",
      "|  Hercules|         Bail|  F|\n",
      "|  Hercules|       Bodoff|  M|\n",
      "|  Hercules|     Benantar|  F|\n",
      "|  Hercules|      Basagni|  M|\n",
      "|  Hercules|Bernardinello|  F|\n",
      "|  Hercules|   Baranowski|  M|\n",
      "|  Hercules|      Bisiani|  F|\n",
      "|  Hercules|   Benzmuller|  M|\n",
      "|  Hercules|         Bahr|  M|\n",
      "|  Hercules|        Biran|  F|\n",
      "|  Hercules|         Bain|  F|\n",
      "|  Hercules|      Brendel|  F|\n",
      "|  Hercules|      Buchter|  M|\n",
      "|  Hercules|     Barreiro|  M|\n",
      "|  Hercules|         Baak|  M|\n",
      "+----------+-------------+---+\n",
      "\n"
     ]
    }
   ],
   "source": [
    "spark.sql(\" select first_name,last_name ,sex from employees where first_name = 'Hercules' and last_name like('B%')\").show()"
   ]
  },
  {
   "cell_type": "markdown",
   "metadata": {},
   "source": [
    "### 6. A list showing all employees in the Sales department, including their employee number, last name, first name, and department name.\n",
    " "
   ]
  },
  {
   "cell_type": "code",
   "execution_count": 59,
   "metadata": {},
   "outputs": [
    {
     "name": "stdout",
     "output_type": "stream",
     "text": [
      "+------+-------------+----------+---------+\n",
      "|emp_no|    last_name|first_name|dept_name|\n",
      "+------+-------------+----------+---------+\n",
      "|246449|   Bultermann|     Subbu|  \"Sales\"|\n",
      "|205246|       Demizu|     Nevio|  \"Sales\"|\n",
      "|476443|       Asmuth|      Ziya|  \"Sales\"|\n",
      "|424270|    Yoshizawa|    Kellyn|  \"Sales\"|\n",
      "|280408|         Perl|   Elliott|  \"Sales\"|\n",
      "|289261|     Nollmann|       Gad|  \"Sales\"|\n",
      "|444985|     Verspoor|      Giap|  \"Sales\"|\n",
      "|477628|Beutelspacher|      Duro|  \"Sales\"|\n",
      "| 42625|        Swick|  Harngdar|  \"Sales\"|\n",
      "| 85093|       Covnot| Nectarios|  \"Sales\"|\n",
      "|205366|    Shimshoni|  Kazuhira|  \"Sales\"|\n",
      "| 37601|    Naumovich|   Gilbert|  \"Sales\"|\n",
      "|437985|        Munke|    Reuven|  \"Sales\"|\n",
      "| 28823|     Skafidas|     Tonny|  \"Sales\"|\n",
      "|107258|       Zaumen|    Parviz|  \"Sales\"|\n",
      "| 11980|         Pews| Yechezkel|  \"Sales\"|\n",
      "|457800|      Domenig| Stabislas|  \"Sales\"|\n",
      "|414537|     Businaro|   Chikara|  \"Sales\"|\n",
      "|414885|       Vecchi|   Candido|  \"Sales\"|\n",
      "|217945|        Georg|    Shmuel|  \"Sales\"|\n",
      "+------+-------------+----------+---------+\n",
      "only showing top 20 rows\n",
      "\n"
     ]
    }
   ],
   "source": [
    "spark.sql(\" select t1.emp_no,t1.last_name,t1.first_name,t3.dept_name from employees t1  join dept_emp t2 on t1.emp_no = t2.emp_no  join departments t3 on t2.dept_no = t3.dept_no  where t3.dept_name = '\\\"Sales\\\"'\").show()"
   ]
  },
  {
   "cell_type": "markdown",
   "metadata": {},
   "source": [
    "### 7. A list showing all employees in the Sales and Development departments, including their employee number, last name, first name, and department name."
   ]
  },
  {
   "cell_type": "code",
   "execution_count": 60,
   "metadata": {},
   "outputs": [
    {
     "name": "stdout",
     "output_type": "stream",
     "text": [
      "+------+-------------+----------+---------+\n",
      "|emp_no|    last_name|first_name|dept_name|\n",
      "+------+-------------+----------+---------+\n",
      "|246449|   Bultermann|     Subbu|  \"Sales\"|\n",
      "|205246|       Demizu|     Nevio|  \"Sales\"|\n",
      "|476443|       Asmuth|      Ziya|  \"Sales\"|\n",
      "|424270|    Yoshizawa|    Kellyn|  \"Sales\"|\n",
      "|280408|         Perl|   Elliott|  \"Sales\"|\n",
      "|289261|     Nollmann|       Gad|  \"Sales\"|\n",
      "|444985|     Verspoor|      Giap|  \"Sales\"|\n",
      "|477628|Beutelspacher|      Duro|  \"Sales\"|\n",
      "| 42625|        Swick|  Harngdar|  \"Sales\"|\n",
      "| 85093|       Covnot| Nectarios|  \"Sales\"|\n",
      "|205366|    Shimshoni|  Kazuhira|  \"Sales\"|\n",
      "| 37601|    Naumovich|   Gilbert|  \"Sales\"|\n",
      "|437985|        Munke|    Reuven|  \"Sales\"|\n",
      "| 28823|     Skafidas|     Tonny|  \"Sales\"|\n",
      "|107258|       Zaumen|    Parviz|  \"Sales\"|\n",
      "| 11980|         Pews| Yechezkel|  \"Sales\"|\n",
      "|457800|      Domenig| Stabislas|  \"Sales\"|\n",
      "|414537|     Businaro|   Chikara|  \"Sales\"|\n",
      "|414885|       Vecchi|   Candido|  \"Sales\"|\n",
      "|217945|        Georg|    Shmuel|  \"Sales\"|\n",
      "+------+-------------+----------+---------+\n",
      "only showing top 20 rows\n",
      "\n"
     ]
    }
   ],
   "source": [
    "spark.sql(\" select t1.emp_no,t1.last_name,t1.first_name,t3.dept_name from employees t1  join dept_emp t2 on t1.emp_no = t2.emp_no  join departments t3 on t2.dept_no = t3.dept_no  where t3.dept_name IN('\\\"Sales\\\"','\\\"Development\\\"') \").show()"
   ]
  },
  {
   "cell_type": "markdown",
   "metadata": {},
   "source": [
    "### 8. A list showing the frequency count of employee last names, in descending order. ( i.e., how many employees share each last name"
   ]
  },
  {
   "cell_type": "code",
   "execution_count": 61,
   "metadata": {},
   "outputs": [
    {
     "name": "stdout",
     "output_type": "stream",
     "text": [
      "+----------------+-------------+\n",
      "|       last_name|count(emp_no)|\n",
      "+----------------+-------------+\n",
      "|       Delgrossi|          188|\n",
      "|         Rullman|          171|\n",
      "|        Hagimont|          164|\n",
      "|         Lanteri|          173|\n",
      "|          Nanard|          194|\n",
      "|          Saoudi|          176|\n",
      "|   Beutelspacher|          180|\n",
      "|          Butner|          193|\n",
      "|          Stille|          165|\n",
      "|          Aamodt|          205|\n",
      "|Sankaranarayanan|          183|\n",
      "|         Kleiser|          193|\n",
      "|       Besselaar|          188|\n",
      "|         Solovay|          178|\n",
      "|          Ritcey|          156|\n",
      "|      Hinsberger|          187|\n",
      "|            Lund|          170|\n",
      "|     Shokrollahi|          179|\n",
      "|      Taubenfeld|          200|\n",
      "|            Gips|          167|\n",
      "+----------------+-------------+\n",
      "only showing top 20 rows\n",
      "\n"
     ]
    }
   ],
   "source": [
    "spark.sql(\"  select last_name , count(emp_no) from employees   group by last_name\").show()"
   ]
  },
  {
   "cell_type": "markdown",
   "metadata": {},
   "source": [
    "### 9. Histogram to show the salary distribution among the employees"
   ]
  },
  {
   "cell_type": "code",
   "execution_count": 62,
   "metadata": {},
   "outputs": [
    {
     "data": {
      "image/png": "[encoded data removed]",
      "text/plain": [
       "<Figure size 432x288 with 1 Axes>"
      ]
     },
     "metadata": {
      "needs_background": "light"
     },
     "output_type": "display_data"
    }
   ],
   "source": [
    "sns.distplot(spark.sql(\"select emp_no , sum(salary) from salaries group by emp_no \").toPandas(), norm_hist= True)\n",
    "plt.show()"
   ]
  },
  {
   "cell_type": "markdown",
   "metadata": {},
   "source": [
    "### 10. Bar graph to show the Average salary per title (designation)"
   ]
  },
  {
   "cell_type": "code",
   "execution_count": 63,
   "metadata": {},
   "outputs": [
    {
     "data": {
      "image/png": "[encoded data removed]",
      "text/plain": [
       "<Figure size 432x288 with 1 Axes>"
      ]
     },
     "metadata": {
      "needs_background": "light"
     },
     "output_type": "display_data"
    }
   ],
   "source": [
    "sns.barplot(x='title' , y='avg(salary)', data = spark.sql(\"select t.title, avg(s.salary) from employees e inner join titles t on e.emp_title_id = t.title_id inner join salaries s on e.emp_no = s.emp_no group by t.title\").toPandas() )\n",
    "plt.show()"
   ]
  },
  {
   "cell_type": "markdown",
   "metadata": {},
   "source": [
    "### 11. Calculate employee tenure & show the tenure distribution among the employees\n"
   ]
  },
  {
   "cell_type": "code",
   "execution_count": 65,
   "metadata": {},
   "outputs": [
    {
     "name": "stdout",
     "output_type": "stream",
     "text": [
      "+-------------+------+\n",
      "|count(emp_no)|tenure|\n",
      "+-------------+------+\n",
      "|        31832|    28|\n",
      "|        30175|    26|\n",
      "|        32530|    27|\n",
      "|         2441|    12|\n",
      "|        20294|    22|\n",
      "|          500|     1|\n",
      "|         2275|    13|\n",
      "|         2414|     6|\n",
      "|         6033|    16|\n",
      "|         2488|     3|\n",
      "|        15953|    20|\n",
      "|         2430|     5|\n",
      "|        13339|    19|\n",
      "|         3746|    15|\n",
      "|         2438|     9|\n",
      "|         8632|    17|\n",
      "|         2491|     4|\n",
      "|         2446|     8|\n",
      "|        23138|    23|\n",
      "|         2392|     7|\n",
      "+-------------+------+\n",
      "only showing top 20 rows\n",
      "\n"
     ]
    }
   ],
   "source": [
    "spark.sql(\"SELECT COUNT(emp_no), CASE WHEN last_year IS NULL THEN (2013-hire_year)  ELSE (last_year - hire_year)   END AS tenure FROM  tenure GROUP BY CASE  WHEN last_year IS NULL THEN (2013-hire_year) ELSE (last_year - hire_year) END\").show()"
   ]
  },
  {
   "cell_type": "markdown",
   "metadata": {},
   "source": [
    "### 12. Count of employee gender distribution."
   ]
  },
  {
   "cell_type": "code",
   "execution_count": 68,
   "metadata": {},
   "outputs": [
    {
     "name": "stdout",
     "output_type": "stream",
     "text": [
      "+---+-------------+\n",
      "|sex|count(emp_no)|\n",
      "+---+-------------+\n",
      "|  F|       120051|\n",
      "|  M|       179973|\n",
      "+---+-------------+\n",
      "\n"
     ]
    }
   ],
   "source": [
    "spark.sql(\" SELECT sex , COUNT(emp_no) FROM employees GROUP BY sex\").show()"
   ]
  },
  {
   "cell_type": "markdown",
   "metadata": {},
   "source": [
    "### 13. Count of employees basewd on rating."
   ]
  },
  {
   "cell_type": "code",
   "execution_count": 71,
   "metadata": {},
   "outputs": [
    {
     "name": "stdout",
     "output_type": "stream",
     "text": [
      "+-----------------------+-------------+\n",
      "|Last_performance_rating|count(emp_no)|\n",
      "+-----------------------+-------------+\n",
      "|                      B|       107154|\n",
      "|                      C|        71304|\n",
      "|                      A|        95919|\n",
      "|                      S|        10542|\n",
      "|                    PIP|        15105|\n",
      "+-----------------------+-------------+\n",
      "\n"
     ]
    }
   ],
   "source": [
    "spark.sql(\"SELECT Last_performance_rating , COUNT(emp_no) FROM employees  Group BY last_performance_rating\").show()"
   ]
  },
  {
   "cell_type": "markdown",
   "metadata": {},
   "source": [
    "### 14. which department required maximun empoyment performance improvement."
   ]
  },
  {
   "cell_type": "code",
   "execution_count": 76,
   "metadata": {},
   "outputs": [
    {
     "name": "stdout",
     "output_type": "stream",
     "text": [
      "+--------------------+-------------+\n",
      "|           dept_name|count(emp_no)|\n",
      "+--------------------+-------------+\n",
      "|       \"development\"|         4373|\n",
      "|        \"Production\"|         3690|\n",
      "|             \"Sales\"|         2605|\n",
      "|  \"Customer Service\"|         1150|\n",
      "|          \"Research\"|         1064|\n",
      "|         \"Marketing\"|          999|\n",
      "|\"Quality Management\"|          992|\n",
      "|           \"Finance\"|          914|\n",
      "|   \"Human Resources\"|          874|\n",
      "+--------------------+-------------+\n",
      "\n"
     ]
    }
   ],
   "source": [
    "spark.sql(\"select t3.dept_name , count(t1.emp_no) from employees t1 left join dept_emp t2 on t1.emp_no= t2.emp_no left join departments t3 on t2.dept_no = t3.dept_no  where t1.last_performance_rating = 'PIP' group by t3.dept_name order by count(t1.emp_no) desc\").show()"
   ]
  },
  {
   "cell_type": "markdown",
   "metadata": {},
   "source": [
    "### 15. count of employees according to desingnation. "
   ]
  },
  {
   "cell_type": "code",
   "execution_count": 77,
   "metadata": {},
   "outputs": [
    {
     "name": "stdout",
     "output_type": "stream",
     "text": [
      "+------------------+-------------+\n",
      "|             title|count(emp_no)|\n",
      "+------------------+-------------+\n",
      "|             Staff|       107384|\n",
      "|Assistant Engineer|         5835|\n",
      "|      Senior Staff|        26583|\n",
      "|   Senior Engineer|        97747|\n",
      "|          Engineer|        47303|\n",
      "|           Manager|           24|\n",
      "|  Technique Leader|        15148|\n",
      "+------------------+-------------+\n",
      "\n"
     ]
    }
   ],
   "source": [
    "spark.sql(\"SELECT T.title,COUNT(EMP.emp_no)  FROM titles T  INNER JOIN employees EMP ON T.title_id = EMP.emp_title_id GROUP BY(T.title)\").show()"
   ]
  },
  {
   "cell_type": "markdown",
   "metadata": {},
   "source": [
    "### 16. department wise performance "
   ]
  },
  {
   "cell_type": "code",
   "execution_count": 81,
   "metadata": {},
   "outputs": [
    {
     "name": "stdout",
     "output_type": "stream",
     "text": [
      "+--------------------+-----------------------+-------------+\n",
      "|           dept_name|last_performance_rating|count(emp_no)|\n",
      "+--------------------+-----------------------+-------------+\n",
      "|       \"development\"|                      B|        30609|\n",
      "|       \"development\"|                      A|        27233|\n",
      "|        \"Production\"|                      B|        26233|\n",
      "|        \"Production\"|                      A|        23531|\n",
      "|       \"development\"|                      C|        20372|\n",
      "|             \"Sales\"|                      B|        18764|\n",
      "|        \"Production\"|                      C|        17477|\n",
      "|             \"Sales\"|                      A|        16641|\n",
      "|             \"Sales\"|                      C|        12427|\n",
      "|  \"Customer Service\"|                      B|         8462|\n",
      "|  \"Customer Service\"|                      A|         7478|\n",
      "|          \"Research\"|                      B|         7438|\n",
      "|\"Quality Management\"|                      B|         7244|\n",
      "|         \"Marketing\"|                      B|         7147|\n",
      "|          \"Research\"|                      A|         6834|\n",
      "|         \"Marketing\"|                      A|         6476|\n",
      "|\"Quality Management\"|                      A|         6436|\n",
      "|           \"Finance\"|                      B|         6255|\n",
      "|   \"Human Resources\"|                      B|         6238|\n",
      "|   \"Human Resources\"|                      A|         5762|\n",
      "+--------------------+-----------------------+-------------+\n",
      "only showing top 20 rows\n",
      "\n"
     ]
    }
   ],
   "source": [
    "spark.sql(\"select t3.dept_name ,t1.last_performance_rating, count(t1.emp_no) from employees t1 left join dept_emp t2 on t1.emp_no= t2.emp_no left join departments t3 on t2.dept_no = t3.dept_no group by t3.dept_name,t1.last_performance_rating order by count(t1.emp_no) desc\").show()"
   ]
  },
  {
   "cell_type": "markdown",
   "metadata": {},
   "source": [
    "### 17. most paid employees."
   ]
  },
  {
   "cell_type": "code",
   "execution_count": 82,
   "metadata": {},
   "outputs": [
    {
     "name": "stdout",
     "output_type": "stream",
     "text": [
      "+------------+-------------+-----------+\n",
      "|  first_name|    last_name|sum(salary)|\n",
      "+------------+-------------+-----------+\n",
      "|    Mohammad|       Ullian|     267002|\n",
      "|      Bartek|      Garnier|     259201|\n",
      "|     Rosalyn|       Baalen|     257234|\n",
      "|    Radoslaw|         Pfau|     254066|\n",
      "|         Gad|        Krone|     251992|\n",
      "|      Divine|      Ebeling|     248562|\n",
      "|        Iara|      Breugel|     246766|\n",
      "|        Eben|    Francisci|     243202|\n",
      "|    Yonghong|      Codenie|     241874|\n",
      "|     Zongyan|      DiGiano|     241645|\n",
      "|   Laurentiu|     Cesareni|     239415|\n",
      "| Constantijn|     Pramanik|     236752|\n",
      "|    Yuichiro|      Brendel|     235377|\n",
      "|    Branimir|     Griswold|     235302|\n",
      "|    Jasminko|        Junot|     234801|\n",
      "|      Jaques|       Zaiane|     233109|\n",
      "|Sivanarayana|Chandrasekhar|     230977|\n",
      "|    Jasminko|   Goldhammer|     230706|\n",
      "|     Martijn|   Besancenot|     230697|\n",
      "|        Marc|       Stille|     228853|\n",
      "+------------+-------------+-----------+\n",
      "only showing top 20 rows\n",
      "\n"
     ]
    }
   ],
   "source": [
    "spark.sql(\"select t1.first_name,t1.last_name,sum(t2.salary) from employees t1 left join salaries t2 on t1.emp_no = t2.emp_no group by t1.first_name,t1.last_name order by sum(t2.salary) desc\").show()\n"
   ]
  },
  {
   "cell_type": "code",
   "execution_count": null,
   "metadata": {},
   "outputs": [],
   "source": []
  }
 ],
 "metadata": {
  "kernelspec": {
   "display_name": "Python 3",
   "language": "python",
   "name": "python3"
  },
  "language_info": {
   "codemirror_mode": {
    "name": "ipython",
    "version": 3
   },
   "file_extension": ".py",
   "mimetype": "text/x-python",
   "name": "python",
   "nbconvert_exporter": "python",
   "pygments_lexer": "ipython3",
   "version": "3.7.6"
  }
 },
 "nbformat": 4,
 "nbformat_minor": 4
}
