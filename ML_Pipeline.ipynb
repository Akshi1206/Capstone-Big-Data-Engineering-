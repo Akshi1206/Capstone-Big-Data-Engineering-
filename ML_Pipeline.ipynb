{
 "cells": [
  {
   "cell_type": "code",
   "execution_count": 1,
   "metadata": {},
   "outputs": [],
   "source": [
    "from pyspark.sql import SparkSession\n",
    "import pandas as pd\n",
    "from pyspark.sql import functions as F\n",
    "import numpy as np\n",
    "import matplotlib.pyplot as plt\n",
    "import seaborn as sns\n",
    "from pyspark.sql.types import *\n",
    "from pyspark.ml.classification import RandomForestClassifier\n",
    "from pyspark.ml.classification import LogisticRegression\n",
    "\n",
    "from pyspark.ml.evaluation import MulticlassClassificationEvaluator, BinaryClassificationEvaluator\n",
    "\n",
    "\n",
    "\n",
    "\n",
    " \n",
    "\n",
    "from pyspark.ml import Pipeline\n",
    "import warnings\n",
    "warnings.simplefilter(action='ignore')\n",
    "\n",
    "#Encoding all categorical features\n",
    "from pyspark.ml.feature import  StringIndexer, VectorAssembler,  VectorIndexer\n",
    "\n"
   ]
  },
  {
   "cell_type": "code",
   "execution_count": 2,
   "metadata": {},
   "outputs": [
    {
     "data": {
      "text/html": [
       "\n",
       "            <div>\n",
       "                <p><b>SparkSession - hive</b></p>\n",
       "                \n",
       "        <div>\n",
       "            <p><b>SparkContext</b></p>\n",
       "\n",
       "            <p><a href=\"http://ip-10-1-1-204.ap-south-1.compute.internal:43003\">Spark UI</a></p>\n",
       "\n",
       "            <dl>\n",
       "              <dt>Version</dt>\n",
       "                <dd><code>v2.4.0</code></dd>\n",
       "              <dt>Master</dt>\n",
       "                <dd><code>local[*]</code></dd>\n",
       "              <dt>AppName</dt>\n",
       "                <dd><code>Akshi_capstone_ml</code></dd>\n",
       "            </dl>\n",
       "        </div>\n",
       "        \n",
       "            </div>\n",
       "        "
      ],
      "text/plain": [
       "<pyspark.sql.session.SparkSession at 0x7fbae15e4d10>"
      ]
     },
     "execution_count": 2,
     "metadata": {},
     "output_type": "execute_result"
    }
   ],
   "source": [
    "spark = (SparkSession.builder.appName(\"Akshi_capstone_ml\")\\\n",
    "        .config(\"hive.metastore.uris\",\"thrift://ip-10-1-2-24.ap-south-1.compute.internal:9083\")\\\n",
    "        .enableHiveSupport().getOrCreate())\n",
    "spark"
   ]
  },
  {
   "cell_type": "code",
   "execution_count": 3,
   "metadata": {
    "scrolled": true
   },
   "outputs": [
    {
     "name": "stdout",
     "output_type": "stream",
     "text": [
      "++\n",
      "||\n",
      "++\n",
      "++\n",
      "\n",
      "+----------+-----------------+-----------+\n",
      "|  database|        tableName|isTemporary|\n",
      "+----------+-----------------+-----------+\n",
      "|akshialabs|              clv|      false|\n",
      "|akshialabs|          default|      false|\n",
      "|akshialabs|      departments|      false|\n",
      "|akshialabs|         dept_emp|      false|\n",
      "|akshialabs|     dept_manager|      false|\n",
      "|akshialabs|         duration|      false|\n",
      "|akshialabs|        employees|      false|\n",
      "|akshialabs|            grace|      false|\n",
      "|akshialabs|             hvac|      false|\n",
      "|akshialabs|    hvac_building|      false|\n",
      "|akshialabs|       hvac_final|      false|\n",
      "|akshialabs|hvac_temperatures|      false|\n",
      "|akshialabs|         kweblist|      false|\n",
      "|akshialabs|            late1|      false|\n",
      "|akshialabs|            late2|      false|\n",
      "|akshialabs|           latlon|      false|\n",
      "|akshialabs|  left_emp_tenure|      false|\n",
      "|akshialabs|         loandata|      false|\n",
      "|akshialabs|   migrate_status|      false|\n",
      "|akshialabs|               nt|      false|\n",
      "+----------+-----------------+-----------+\n",
      "only showing top 20 rows\n",
      "\n"
     ]
    }
   ],
   "source": [
    "spark.sql(\"use akshialabs\").show()\n",
    "spark.sql(\"show tables\").show()"
   ]
  },
  {
   "cell_type": "code",
   "execution_count": 4,
   "metadata": {},
   "outputs": [],
   "source": [
    "Employee_data = spark.sql(\"select t1.dept_name,t2.dept_no,t3.birth_date,t3.emp_no,t3.emp_title_id,t3.first_name,t3.hire_date,t3.last_date,t3.last_name,t3.last_performance_rating,t3.left_,t3.no_of_projects,t3.sex,t4.salary,t5.title from  departments t1 inner join  dept_emp t2 on t1.dept_no = t2.dept_no inner join employees t3 on t2.emp_no = t3.emp_no inner join salaries t4 on t4.emp_no = t3.emp_no inner join titles t5 on t5.title_id = t3.emp_title_id\")"
   ]
  },
  {
   "cell_type": "code",
   "execution_count": 5,
   "metadata": {
    "scrolled": true
   },
   "outputs": [
    {
     "name": "stdout",
     "output_type": "stream",
     "text": [
      "+------------------+-------+----------+------+------------+----------+----------+----------+---------+-----------------------+-----+--------------+---+------+----------------+\n",
      "|         dept_name|dept_no|birth_date|emp_no|emp_title_id|first_name| hire_date| last_date|last_name|last_performance_rating|left_|no_of_projects|sex|salary|           title|\n",
      "+------------------+-------+----------+------+------------+----------+----------+----------+---------+-----------------------+-----+--------------+---+------+----------------+\n",
      "|  Iwayama|                      A|    0|             8|  F| 40000|Technique Leader|\n",
      "|  dAstous|                      B|    0|             9|  M| 40000|    Senior Staff|\n",
      "|   Danlos|                      A|    0|             2|  F| 60268| Senior Engineer|\n",
      "|   Danlos|                      A|    0|             2|  F| 60268| Senior Engineer|\n",
      "|  Rullman|                      C|    0|             6|  F| 54602|           Staff|\n",
      "|  Rullman|                      C|    0|             6|  F| 54602|           Staff|\n",
      "|     Bahk|                      C|    0|             4|  F| 57239| Senior Engineer|\n",
      "|Kermarrec|                    PIP|    0|             7|  F| 40000| Senior Engineer|\n",
      "| Hagimont|                      A|    0|            10|  F| 40000|           Staff|\n",
      "| Hagimont|                      A|    0|            10|  F| 40000|           Staff|\n",
      "|Chenoweth|                      C|    0|             7|  F| 43739|           Staff|\n",
      "| Massonet|                      A|    1|             4|  M| 54491|        Engineer|\n",
      "|     Baik|                      A|    0|             7|  M| 40335|           Staff|\n",
      "| Vuskovic|                    PIP|    0|             2|  M| 45038|Technique Leader|\n",
      "| Vuskovic|                    PIP|    0|             2|  M| 45038|Technique Leader|\n",
      "|    Ranum|                      B|    0|             2|  F| 70172|           Staff|\n",
      "|    Ranum|                      B|    0|             2|  F| 70172|           Staff|\n",
      "| Businaro|                      B|    0|            10|  F| 42816|    Senior Staff|\n",
      "|   Farrar|                      C|    0|             7|  F| 49760| Senior Engineer|\n",
      "|Lienhardt|                      B|    0|             5|  M| 40000| Senior Engineer|\n",
      "+------------------+-------+----------+------+------------+----------+----------+----------+---------+-----------------------+-----+--------------+---+------+----------------+\n",
      "only showing top 20 rows\n",
      "\n"
     ]
    }
   ],
   "source": [
    "Employee_data.show()\n",
    " "
   ]
  },
  {
   "cell_type": "code",
   "execution_count": 6,
   "metadata": {},
   "outputs": [
    {
     "data": {
      "text/plain": [
       "['dept_name',\n",
       " 'dept_no',\n",
       " 'birth_date',\n",
       " 'emp_no',\n",
       " 'emp_title_id',\n",
       " 'first_name',\n",
       " 'hire_date',\n",
       " 'last_date',\n",
       " 'last_name',\n",
       " 'last_performance_rating',\n",
       " 'left_',\n",
       " 'no_of_projects',\n",
       " 'sex',\n",
       " 'salary',\n",
       " 'title']"
      ]
     },
     "execution_count": 6,
     "metadata": {},
     "output_type": "execute_result"
    }
   ],
   "source": [
    "Employee_data.columns"
   ]
  },
  {
   "cell_type": "code",
   "execution_count": 7,
   "metadata": {},
   "outputs": [],
   "source": [
    "final = Employee_data\n",
    "for col in Employee_data.columns:\n",
    " final = Employee_data.withColumnRenamed(col,col.replace(\" \", \"_\"))"
   ]
  },
  {
   "cell_type": "code",
   "execution_count": 8,
   "metadata": {
    "scrolled": true
   },
   "outputs": [
    {
     "name": "stdout",
     "output_type": "stream",
     "text": [
      "+------------------+-------+----------+------+------------+----------+----------+----------+---------+-----------------------+-----+--------------+---+------+----------------+\n",
      "|         dept_name|dept_no|birth_date|emp_no|emp_title_id|first_name| hire_date| last_date|last_name|last_performance_rating|left_|no_of_projects|sex|salary|           title|\n",
      "+------------------+-------+----------+------+------------+----------+----------+----------+---------+-----------------------+-----+--------------+---+------+----------------+\n",
      "|  Iwayama|                      A|    0|             8|  F| 40000|Technique Leader|\n",
      "|  dAstous|                      B|    0|             9|  M| 40000|    Senior Staff|\n",
      "|   Danlos|                      A|    0|             2|  F| 60268| Senior Engineer|\n",
      "|   Danlos|                      A|    0|             2|  F| 60268| Senior Engineer|\n",
      "|  Rullman|                      C|    0|             6|  F| 54602|           Staff|\n",
      "|  Rullman|                      C|    0|             6|  F| 54602|           Staff|\n",
      "|     Bahk|                      C|    0|             4|  F| 57239| Senior Engineer|\n",
      "|Kermarrec|                    PIP|    0|             7|  F| 40000| Senior Engineer|\n",
      "| Hagimont|                      A|    0|            10|  F| 40000|           Staff|\n",
      "| Hagimont|                      A|    0|            10|  F| 40000|           Staff|\n",
      "|Chenoweth|                      C|    0|             7|  F| 43739|           Staff|\n",
      "| Massonet|                      A|    1|             4|  M| 54491|        Engineer|\n",
      "|     Baik|                      A|    0|             7|  M| 40335|           Staff|\n",
      "| Vuskovic|                    PIP|    0|             2|  M| 45038|Technique Leader|\n",
      "| Vuskovic|                    PIP|    0|             2|  M| 45038|Technique Leader|\n",
      "|    Ranum|                      B|    0|             2|  F| 70172|           Staff|\n",
      "|    Ranum|                      B|    0|             2|  F| 70172|           Staff|\n",
      "| Businaro|                      B|    0|            10|  F| 42816|    Senior Staff|\n",
      "|   Farrar|                      C|    0|             7|  F| 49760| Senior Engineer|\n",
      "|Lienhardt|                      B|    0|             5|  M| 40000| Senior Engineer|\n",
      "+------------------+-------+----------+------+------------+----------+----------+----------+---------+-----------------------+-----+--------------+---+------+----------------+\n",
      "only showing top 20 rows\n",
      "\n"
     ]
    }
   ],
   "source": [
    "final.show()"
   ]
  },
  {
   "cell_type": "code",
   "execution_count": 10,
   "metadata": {},
   "outputs": [],
   "source": [
    "final.createTempView(\"final_\")"
   ]
  },
  {
   "cell_type": "code",
   "execution_count": 11,
   "metadata": {
    "scrolled": true
   },
   "outputs": [
    {
     "name": "stdout",
     "output_type": "stream",
     "text": [
      "+-----+\n",
      "|left_|\n",
      "+-----+\n",
      "|    1|\n",
      "|    0|\n",
      "+-----+\n",
      "\n"
     ]
    }
   ],
   "source": [
    "spark.sql('select distinct left_ from final_').show()\n",
    "\n",
    "final = final.withColumn(\"no_of_projects\", final.no_of_projects.cast('int'))\n",
    "final = final.withColumn(\"salary\", final.no_of_projects.cast('int'))\n",
    "final = final.withColumn(\"left_\", final.left_.cast('int'))"
   ]
  },
  {
   "cell_type": "code",
   "execution_count": 12,
   "metadata": {},
   "outputs": [
    {
     "name": "stdout",
     "output_type": "stream",
     "text": [
      "root\n",
      " |-- dept_name: string (nullable = true)\n",
      " |-- dept_no: string (nullable = true)\n",
      " |-- birth_date: string (nullable = true)\n",
      " |-- emp_no: integer (nullable = true)\n",
      " |-- emp_title_id: string (nullable = true)\n",
      " |-- first_name: string (nullable = true)\n",
      " |-- hire_date: string (nullable = true)\n",
      " |-- last_date: string (nullable = true)\n",
      " |-- last_name: string (nullable = true)\n",
      " |-- last_performance_rating: string (nullable = true)\n",
      " |-- left_: integer (nullable = true)\n",
      " |-- no_of_projects: integer (nullable = true)\n",
      " |-- sex: string (nullable = true)\n",
      " |-- salary: integer (nullable = true)\n",
      " |-- title: string (nullable = true)\n",
      "\n"
     ]
    }
   ],
   "source": [
    "final.printSchema()"
   ]
  },
  {
   "cell_type": "code",
   "execution_count": 13,
   "metadata": {},
   "outputs": [],
   "source": [
    "continuous_features = [\n",
    " 'no_of_projects',\n",
    " 'salary']"
   ]
  },
  {
   "cell_type": "code",
   "execution_count": 14,
   "metadata": {
    "scrolled": true
   },
   "outputs": [
    {
     "name": "stdout",
     "output_type": "stream",
     "text": [
      "+------------------+-------+----------+------+------------+----------+----------+----------+---------+-----------------------+-----+--------------+---+------+----------------+\n",
      "|         dept_name|dept_no|birth_date|emp_no|emp_title_id|first_name| hire_date| last_date|last_name|last_performance_rating|left_|no_of_projects|sex|salary|           title|\n",
      "+------------------+-------+----------+------+------------+----------+----------+----------+---------+-----------------------+-----+--------------+---+------+----------------+\n",
      "|  Iwayama|                      A|    0|             8|  F|     8|Technique Leader|\n",
      "|  dAstous|                      B|    0|             9|  M|     9|    Senior Staff|\n",
      "|   Danlos|                      A|    0|             2|  F|     2| Senior Engineer|\n",
      "|   Danlos|                      A|    0|             2|  F|     2| Senior Engineer|\n",
      "|  Rullman|                      C|    0|             6|  F|     6|           Staff|\n",
      "|  Rullman|                      C|    0|             6|  F|     6|           Staff|\n",
      "|     Bahk|                      C|    0|             4|  F|     4| Senior Engineer|\n",
      "|Kermarrec|                    PIP|    0|             7|  F|     7| Senior Engineer|\n",
      "| Hagimont|                      A|    0|            10|  F|    10|           Staff|\n",
      "| Hagimont|                      A|    0|            10|  F|    10|           Staff|\n",
      "|Chenoweth|                      C|    0|             7|  F|     7|           Staff|\n",
      "| Massonet|                      A|    1|             4|  M|     4|        Engineer|\n",
      "|     Baik|                      A|    0|             7|  M|     7|           Staff|\n",
      "| Vuskovic|                    PIP|    0|             2|  M|     2|Technique Leader|\n",
      "| Vuskovic|                    PIP|    0|             2|  M|     2|Technique Leader|\n",
      "|    Ranum|                      B|    0|             2|  F|     2|           Staff|\n",
      "|    Ranum|                      B|    0|             2|  F|     2|           Staff|\n",
      "| Businaro|                      B|    0|            10|  F|    10|    Senior Staff|\n",
      "|   Farrar|                      C|    0|             7|  F|     7| Senior Engineer|\n",
      "|Lienhardt|                      B|    0|             5|  M|     5| Senior Engineer|\n",
      "+------------------+-------+----------+------+------------+----------+----------+----------+---------+-----------------------+-----+--------------+---+------+----------------+\n",
      "only showing top 20 rows\n",
      "\n"
     ]
    }
   ],
   "source": [
    "final.show()"
   ]
  },
  {
   "cell_type": "code",
   "execution_count": 15,
   "metadata": {},
   "outputs": [],
   "source": [
    "categorical_features = ['dept_name',\n",
    " 'last_performance_rating',\n",
    " 'sex',\n",
    " 'title']"
   ]
  },
  {
   "cell_type": "code",
   "execution_count": 16,
   "metadata": {},
   "outputs": [],
   "source": [
    "y = ['left_']"
   ]
  },
  {
   "cell_type": "code",
   "execution_count": 17,
   "metadata": {},
   "outputs": [],
   "source": [
    "# create object of StringIndexer class and specify input and output column\n",
    "SI_dept_name = StringIndexer(inputCol='dept_name',outputCol='dept_name_Index')\n",
    "SI_last_performance_rating = StringIndexer(inputCol='last_performance_rating',outputCol='last_performance_rating_Index')\n",
    "SI_sex = StringIndexer(inputCol='sex',outputCol='sex_Index')\n",
    "SI_title = StringIndexer(inputCol='title',outputCol='title_Index')"
   ]
  },
  {
   "cell_type": "code",
   "execution_count": 18,
   "metadata": {},
   "outputs": [],
   "source": [
    "# transform the data\n",
    "final = SI_dept_name.fit(final).transform(final)\n",
    "final = SI_last_performance_rating.fit(final).transform(final)\n",
    "final = SI_sex.fit(final).transform(final)\n",
    "final = SI_title.fit(final).transform(final)"
   ]
  },
  {
   "cell_type": "code",
   "execution_count": 19,
   "metadata": {},
   "outputs": [
    {
     "name": "stdout",
     "output_type": "stream",
     "text": [
      "+------------------+-------+----------+------+------------+----------+----------+----------+---------+-----------------------+-----+--------------+---+------+----------------+---------------+-----------------------------+---------+-----------+\n",
      "|         dept_name|dept_no|birth_date|emp_no|emp_title_id|first_name| hire_date| last_date|last_name|last_performance_rating|left_|no_of_projects|sex|salary|           title|dept_name_Index|last_performance_rating_Index|sex_Index|title_Index|\n",
      "+------------------+-------+----------+------+------------+----------+----------+----------+---------+-----------------------+-----+--------------+---+------+----------------+---------------+-----------------------------+---------+-----------+\n",
      "|  Iwayama|                      A|    0|             8|  F|     8|Technique Leader|            0.0|                          1.0|      1.0|        4.0|\n",
      "|  dAstous|                      B|    0|             9|  M|     9|    Senior Staff|            7.0|                          0.0|      0.0|        3.0|\n",
      "|   Danlos|                      A|    0|             2|  F|     2| Senior Engineer|            0.0|                          1.0|      1.0|        1.0|\n",
      "|   Danlos|                      A|    0|             2|  F|     2| Senior Engineer|            4.0|                          1.0|      1.0|        1.0|\n",
      "|  Rullman|                      C|    0|             6|  F|     6|           Staff|            2.0|                          2.0|      1.0|        0.0|\n",
      "|  Rullman|                      C|    0|             6|  F|     6|           Staff|            3.0|                          2.0|      1.0|        0.0|\n",
      "|     Bahk|                      C|    0|             4|  F|     4| Senior Engineer|            0.0|                          2.0|      1.0|        1.0|\n",
      "|Kermarrec|                    PIP|    0|             7|  F|     7| Senior Engineer|            0.0|                          3.0|      1.0|        1.0|\n",
      "| Hagimont|                      A|    0|            10|  F|    10|           Staff|            0.0|                          1.0|      1.0|        0.0|\n",
      "| Hagimont|                      A|    0|            10|  F|    10|           Staff|            4.0|                          1.0|      1.0|        0.0|\n",
      "|Chenoweth|                      C|    0|             7|  F|     7|           Staff|            4.0|                          2.0|      1.0|        0.0|\n",
      "| Massonet|                      A|    1|             4|  M|     4|        Engineer|            0.0|                          1.0|      0.0|        2.0|\n",
      "|     Baik|                      A|    0|             7|  M|     7|           Staff|            8.0|                          1.0|      0.0|        0.0|\n",
      "| Vuskovic|                    PIP|    0|             2|  M|     2|Technique Leader|            0.0|                          3.0|      0.0|        4.0|\n",
      "| Vuskovic|                    PIP|    0|             2|  M|     2|Technique Leader|            4.0|                          3.0|      0.0|        4.0|\n",
      "|    Ranum|                      B|    0|             2|  F|     2|           Staff|            5.0|                          0.0|      1.0|        0.0|\n",
      "|    Ranum|                      B|    0|             2|  F|     2|           Staff|            2.0|                          0.0|      1.0|        0.0|\n",
      "| Businaro|                      B|    0|            10|  F|    10|    Senior Staff|            7.0|                          0.0|      1.0|        3.0|\n",
      "|   Farrar|                      C|    0|             7|  F|     7| Senior Engineer|            0.0|                          2.0|      1.0|        1.0|\n",
      "|Lienhardt|                      B|    0|             5|  M|     5| Senior Engineer|            0.0|                          0.0|      0.0|        1.0|\n",
      "+------------------+-------+----------+------+------------+----------+----------+----------+---------+-----------------------+-----+--------------+---+------+----------------+---------------+-----------------------------+---------+-----------+\n",
      "only showing top 20 rows\n",
      "\n"
     ]
    }
   ],
   "source": [
    "final.show()"
   ]
  },
  {
   "cell_type": "code",
   "execution_count": 20,
   "metadata": {},
   "outputs": [],
   "source": [
    "assesmble=VectorAssembler(inputCols=['no_of_projects',\n",
    " 'salary',\n",
    " 'dept_name_Index',\n",
    " 'last_performance_rating_Index',\n",
    " 'sex_Index',\n",
    " 'title_Index'],outputCol='features')"
   ]
  },
  {
   "cell_type": "code",
   "execution_count": 21,
   "metadata": {
    "scrolled": true
   },
   "outputs": [
    {
     "name": "stdout",
     "output_type": "stream",
     "text": [
      "+------------------+-------+----------+------+------------+----------+----------+----------+---------+-----------------------+-----+--------------+---+------+----------------+---------------+-----------------------------+---------+-----------+--------------------+\n",
      "|         dept_name|dept_no|birth_date|emp_no|emp_title_id|first_name| hire_date| last_date|last_name|last_performance_rating|left_|no_of_projects|sex|salary|           title|dept_name_Index|last_performance_rating_Index|sex_Index|title_Index|            features|\n",
      "+------------------+-------+----------+------+------------+----------+----------+----------+---------+-----------------------+-----+--------------+---+------+----------------+---------------+-----------------------------+---------+-----------+--------------------+\n",
      "|  Iwayama|                      A|    0|             8|  F|     8|Technique Leader|            0.0|                          1.0|      1.0|        4.0|[8.0,8.0,0.0,1.0,...|\n",
      "|  dAstous|                      B|    0|             9|  M|     9|    Senior Staff|            7.0|                          0.0|      0.0|        3.0|[9.0,9.0,7.0,0.0,...|\n",
      "|   Danlos|                      A|    0|             2|  F|     2| Senior Engineer|            0.0|                          1.0|      1.0|        1.0|[2.0,2.0,0.0,1.0,...|\n",
      "|   Danlos|                      A|    0|             2|  F|     2| Senior Engineer|            4.0|                          1.0|      1.0|        1.0|[2.0,2.0,4.0,1.0,...|\n",
      "|  Rullman|                      C|    0|             6|  F|     6|           Staff|            2.0|                          2.0|      1.0|        0.0|[6.0,6.0,2.0,2.0,...|\n",
      "|  Rullman|                      C|    0|             6|  F|     6|           Staff|            3.0|                          2.0|      1.0|        0.0|[6.0,6.0,3.0,2.0,...|\n",
      "|     Bahk|                      C|    0|             4|  F|     4| Senior Engineer|            0.0|                          2.0|      1.0|        1.0|[4.0,4.0,0.0,2.0,...|\n",
      "|Kermarrec|                    PIP|    0|             7|  F|     7| Senior Engineer|            0.0|                          3.0|      1.0|        1.0|[7.0,7.0,0.0,3.0,...|\n",
      "| Hagimont|                      A|    0|            10|  F|    10|           Staff|            0.0|                          1.0|      1.0|        0.0|[10.0,10.0,0.0,1....|\n",
      "| Hagimont|                      A|    0|            10|  F|    10|           Staff|            4.0|                          1.0|      1.0|        0.0|[10.0,10.0,4.0,1....|\n",
      "|Chenoweth|                      C|    0|             7|  F|     7|           Staff|            4.0|                          2.0|      1.0|        0.0|[7.0,7.0,4.0,2.0,...|\n",
      "| Massonet|                      A|    1|             4|  M|     4|        Engineer|            0.0|                          1.0|      0.0|        2.0|[4.0,4.0,0.0,1.0,...|\n",
      "|     Baik|                      A|    0|             7|  M|     7|           Staff|            8.0|                          1.0|      0.0|        0.0|[7.0,7.0,8.0,1.0,...|\n",
      "| Vuskovic|                    PIP|    0|             2|  M|     2|Technique Leader|            0.0|                          3.0|      0.0|        4.0|[2.0,2.0,0.0,3.0,...|\n",
      "| Vuskovic|                    PIP|    0|             2|  M|     2|Technique Leader|            4.0|                          3.0|      0.0|        4.0|[2.0,2.0,4.0,3.0,...|\n",
      "|    Ranum|                      B|    0|             2|  F|     2|           Staff|            5.0|                          0.0|      1.0|        0.0|[2.0,2.0,5.0,0.0,...|\n",
      "|    Ranum|                      B|    0|             2|  F|     2|           Staff|            2.0|                          0.0|      1.0|        0.0|[2.0,2.0,2.0,0.0,...|\n",
      "| Businaro|                      B|    0|            10|  F|    10|    Senior Staff|            7.0|                          0.0|      1.0|        3.0|[10.0,10.0,7.0,0....|\n",
      "|   Farrar|                      C|    0|             7|  F|     7| Senior Engineer|            0.0|                          2.0|      1.0|        1.0|[7.0,7.0,0.0,2.0,...|\n",
      "|Lienhardt|                      B|    0|             5|  M|     5| Senior Engineer|            0.0|                          0.0|      0.0|        1.0|[5.0,5.0,0.0,0.0,...|\n",
      "+------------------+-------+----------+------+------------+----------+----------+----------+---------+-----------------------+-----+--------------+---+------+----------------+---------------+-----------------------------+---------+-----------+--------------------+\n",
      "only showing top 20 rows\n",
      "\n"
     ]
    }
   ],
   "source": [
    "final_data=assesmble.transform(final)\n",
    "\n",
    "final_data.show()"
   ]
  },
  {
   "cell_type": "code",
   "execution_count": 22,
   "metadata": {},
   "outputs": [
    {
     "name": "stdout",
     "output_type": "stream",
     "text": [
      "root\n",
      " |-- features: vector (nullable = true)\n",
      " |-- left_: integer (nullable = true)\n",
      "\n",
      "+-------------------+-----+\n",
      "|           features|left_|\n",
      "+-------------------+-----+\n",
      "|(6,[0,1],[1.0,1.0])|    0|\n",
      "|(6,[0,1],[1.0,1.0])|    0|\n",
      "+-------------------+-----+\n",
      "only showing top 2 rows\n",
      "\n"
     ]
    }
   ],
   "source": [
    "df=final_data.select('features','left_')\n",
    "\n",
    "df.printSchema()\n",
    "\n",
    "(train, test) = df.randomSplit([.7,.3])\n",
    "\n",
    "train.show(2)\n"
   ]
  },
  {
   "cell_type": "code",
   "execution_count": 24,
   "metadata": {},
   "outputs": [],
   "source": [
    "#  RandomForestClassifier\n",
    "\n",
    "rf = RandomForestClassifier(labelCol='left_', \n",
    "                            featuresCol='features',\n",
    "                            maxDepth=5)\n",
    "\n",
    "model = rf.fit(train)\n",
    "\n",
    "rf_predictions = model.transform(test)"
   ]
  },
  {
   "cell_type": "code",
   "execution_count": 25,
   "metadata": {},
   "outputs": [
    {
     "name": "stdout",
     "output_type": "stream",
     "text": [
      "Random Forest classifier Accuracy: 0.9006830422964665\n"
     ]
    }
   ],
   "source": [
    "multi_evaluator = MulticlassClassificationEvaluator(labelCol = 'left_', metricName = 'accuracy')\n",
    "\n",
    "print('Random Forest classifier Accuracy:', multi_evaluator.evaluate(rf_predictions))\n"
   ]
  },
  {
   "cell_type": "code",
   "execution_count": 26,
   "metadata": {},
   "outputs": [],
   "source": [
    "#Create Pipeline"
   ]
  },
  {
   "cell_type": "code",
   "execution_count": 27,
   "metadata": {},
   "outputs": [
    {
     "data": {
      "text/plain": [
       "['no_of_projects', 'salary']"
      ]
     },
     "execution_count": 27,
     "metadata": {},
     "output_type": "execute_result"
    }
   ],
   "source": [
    "continuous_features"
   ]
  },
  {
   "cell_type": "code",
   "execution_count": 28,
   "metadata": {},
   "outputs": [
    {
     "data": {
      "text/plain": [
       "['dept_name', 'last_performance_rating', 'sex', 'title']"
      ]
     },
     "execution_count": 28,
     "metadata": {},
     "output_type": "execute_result"
    }
   ],
   "source": [
    "categorical_features"
   ]
  },
  {
   "cell_type": "code",
   "execution_count": 29,
   "metadata": {},
   "outputs": [],
   "source": [
    "# Vector Assembler\n",
    "inputCols=['no_of_projects',\n",
    " 'salary',\n",
    " 'dept_name_Index',\n",
    " 'last_performance_rating_Index',\n",
    " 'sex_Index',\n",
    " 'title_Index']\n"
   ]
  },
  {
   "cell_type": "code",
   "execution_count": 30,
   "metadata": {},
   "outputs": [],
   "source": [
    "# String Indexer\n",
    "indexer =   [StringIndexer(inputCol=c, outputCol=\"{}_Index\".format(c) ) for c in categorical_features]\n"
   ]
  },
  {
   "cell_type": "code",
   "execution_count": 31,
   "metadata": {},
   "outputs": [],
   "source": [
    "\n",
    "# Vector Assembler\n",
    "assembler = VectorAssembler(inputCols = inputCols, outputCol = \"features\")"
   ]
  },
  {
   "cell_type": "code",
   "execution_count": 32,
   "metadata": {},
   "outputs": [],
   "source": [
    "# ML Model\n",
    "rfm = RandomForestClassifier(featuresCol=\"features\",\n",
    "                              labelCol=\"label\",\n",
    "                              numTrees=50,\n",
    "                              maxDepth=5,\n",
    "                              featureSubsetStrategy='onethird')\n",
    "\n",
    "# Creating Pipeline\n",
    "pipeline1 = Pipeline( stages= [indexer, assembler, rfm])"
   ]
  },
  {
   "cell_type": "code",
   "execution_count": null,
   "metadata": {},
   "outputs": [],
   "source": []
  }
 ],
 "metadata": {
  "kernelspec": {
   "display_name": "Python 3",
   "language": "python",
   "name": "python3"
  },
  "language_info": {
   "codemirror_mode": {
    "name": "ipython",
    "version": 3
   },
   "file_extension": ".py",
   "mimetype": "text/x-python",
   "name": "python",
   "nbconvert_exporter": "python",
   "pygments_lexer": "ipython3",
   "version": "3.7.6"
  }
 },
 "nbformat": 4,
 "nbformat_minor": 4
}
